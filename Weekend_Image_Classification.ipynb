{
  "nbformat": 4,
  "nbformat_minor": 0,
  "metadata": {
    "colab": {
      "provenance": [],
      "gpuType": "T4"
    },
    "kernelspec": {
      "name": "python3",
      "display_name": "Python 3"
    },
    "language_info": {
      "name": "python"
    },
    "accelerator": "GPU"
  },
  "cells": [
    {
      "cell_type": "markdown",
      "source": [
        "AI vs ML vs DL\n",
        "\n",
        "DL/Neural Network: Architecture: input layer, hidden layers, output layer\n",
        "\n",
        "Nodes in input layer? no. of inputs\n",
        "Nodes in output layer? no. of labels to be predicted\n",
        "Nodes in hidden layer? assumption\n",
        "32, 64, 128....\n",
        "16, 32, 64, 128....\n",
        "\n",
        "Working of human brain.\n",
        "\n",
        "Neural Network is made up of two different processes:\n",
        "1. Forward propagation/pass\n",
        "2. backward propagation/pass\n",
        "\n",
        "1 round of training = 1 FP + 1 BP\n",
        "\n",
        "BP???"
      ],
      "metadata": {
        "id": "SbyjDCDg4HQg"
      }
    },
    {
      "cell_type": "markdown",
      "source": [
        "Image Classification model using neural networks\n",
        "\n",
        "Two Libraries:\n",
        "\n",
        "1. Tensorflow: keras; high level API built on top of tensorflow\n",
        "Francious Chollet: Book on deep learning\n",
        "Deep  learning book by Ian Goodfellow\n",
        "\n",
        "It give us predefined methods to work or access the power of neural networks\n",
        "\n",
        "2. Pytorch:\n",
        " library which uses functional programming of python"
      ],
      "metadata": {
        "id": "IHWc80ZgqNr7"
      }
    },
    {
      "cell_type": "code",
      "source": [
        "import tensorflow as tf\n",
        "\n",
        "\n",
        "#helper libraries\n",
        "import numpy as np\n",
        "import matplotlib.pyplot as plt\n",
        "\n",
        "print(tf.__version__)"
      ],
      "metadata": {
        "colab": {
          "base_uri": "https://localhost:8080/"
        },
        "id": "dA43J4G4pnFZ",
        "outputId": "a5c6b8cc-8ff2-408a-b487-6f68b20362f8"
      },
      "execution_count": null,
      "outputs": [
        {
          "output_type": "stream",
          "name": "stdout",
          "text": [
            "2.12.0\n"
          ]
        }
      ]
    },
    {
      "cell_type": "markdown",
      "source": [
        "Import the Fashion MNIST data\n",
        "\n",
        "MNIST: images of hand written digits in greyscale\n",
        "\n",
        "FashionMNIST: 70000 grayscale images in 10 categories\n",
        "\n",
        "low resolution: 28 x 28 pixels\n",
        "\n",
        "individual articles of clothing and related accessories\n",
        "\n",
        "10 categories: in the form of index positions\n",
        "\n",
        "Split of data: train and test, I will be uploading this data from keras cloud dataset library\n",
        "\n",
        "60000 images : train\n",
        "\n",
        "10000 images : test"
      ],
      "metadata": {
        "id": "K2BSXHqfsk0d"
      }
    },
    {
      "cell_type": "code",
      "source": [
        "fashion_mnist = tf.keras.datasets.fashion_mnist\n",
        "\n",
        "#4 arrays\n",
        "(train_images, train_labels), (test_images, test_labels) = fashion_mnist.load_data()"
      ],
      "metadata": {
        "id": "DLJVvAJCsfKY"
      },
      "execution_count": null,
      "outputs": []
    },
    {
      "cell_type": "markdown",
      "source": [
        "loading the dataset, are in the form of arrays\n",
        "\n",
        "Images are in 28 x 28 px, the pixel values range form 0-255"
      ],
      "metadata": {
        "id": "z_8egw0yuytS"
      }
    },
    {
      "cell_type": "code",
      "source": [
        "#labels are available in the form of index positions: 0 - 9\n",
        "\n",
        "class_names = ['T-shirt/top', 'Trouser', 'Pullover', 'Dress', 'Coat', 'Sandal', 'Shirt', 'Sneaker', 'Bag', 'Ankle Boot']"
      ],
      "metadata": {
        "id": "B8K-XovJurgT"
      },
      "execution_count": null,
      "outputs": []
    },
    {
      "cell_type": "code",
      "source": [
        "#60000 images in the train data with size 28 x 28 px\n",
        "train_images.shape"
      ],
      "metadata": {
        "colab": {
          "base_uri": "https://localhost:8080/"
        },
        "id": "3lCF48HZwC2O",
        "outputId": "5ffd275a-e6bd-423f-8ad4-229b571a031d"
      },
      "execution_count": null,
      "outputs": [
        {
          "output_type": "execute_result",
          "data": {
            "text/plain": [
              "(60000, 28, 28)"
            ]
          },
          "metadata": {},
          "execution_count": 4
        }
      ]
    },
    {
      "cell_type": "code",
      "source": [
        "len(train_labels)"
      ],
      "metadata": {
        "colab": {
          "base_uri": "https://localhost:8080/"
        },
        "id": "_z6mBACCwQ5L",
        "outputId": "e4d4460d-6336-4df7-b911-fdfdc0a19282"
      },
      "execution_count": null,
      "outputs": [
        {
          "output_type": "execute_result",
          "data": {
            "text/plain": [
              "60000"
            ]
          },
          "metadata": {},
          "execution_count": 5
        }
      ]
    },
    {
      "cell_type": "code",
      "source": [
        "#10000 images are in the test data\n",
        "test_images.shape"
      ],
      "metadata": {
        "colab": {
          "base_uri": "https://localhost:8080/"
        },
        "id": "0K5aQiStwi0Y",
        "outputId": "c0495293-caa7-45eb-e94f-ce9a2d9d5b81"
      },
      "execution_count": null,
      "outputs": [
        {
          "output_type": "execute_result",
          "data": {
            "text/plain": [
              "(10000, 28, 28)"
            ]
          },
          "metadata": {},
          "execution_count": 6
        }
      ]
    },
    {
      "cell_type": "code",
      "source": [
        "len(test_labels)"
      ],
      "metadata": {
        "id": "rAEnZ9fPwmHa"
      },
      "execution_count": null,
      "outputs": []
    },
    {
      "cell_type": "code",
      "source": [
        "type(train_images)"
      ],
      "metadata": {
        "id": "rr1RwEmgLVu9"
      },
      "execution_count": null,
      "outputs": []
    },
    {
      "cell_type": "code",
      "source": [
        "#plot first image of the train data\n",
        "#images that have been loaded are in the form of array of numbers(pixel values)\n",
        "plt.figure()\n",
        "plt.imshow(train_images[0])\n",
        "plt.colorbar()#represent the pixel range : 0-255\n",
        "plt.grid(False)\n",
        "plt.show()"
      ],
      "metadata": {
        "colab": {
          "base_uri": "https://localhost:8080/",
          "height": 430
        },
        "id": "-Q8PI-jAwpGB",
        "outputId": "2847b490-5741-49a1-dd92-73f79ae32e94"
      },
      "execution_count": null,
      "outputs": [
        {
          "output_type": "display_data",
          "data": {
            "text/plain": [
              "<Figure size 640x480 with 2 Axes>"
            ],
            "image/png": "[encoded data removed]"
          },
          "metadata": {}
        }
      ]
    },
    {
      "cell_type": "markdown",
      "source": [
        "every images is an array of pixel values ranging from 0-255\n",
        "\n",
        "I need to normalize the pixel values 0 - 1"
      ],
      "metadata": {
        "id": "6cUQQOzNyoVV"
      }
    },
    {
      "cell_type": "code",
      "source": [
        "train_images = train_images / 255.0\n",
        "\n",
        "test_images = test_images / 255.0"
      ],
      "metadata": {
        "id": "dyqFkO3QxuMN"
      },
      "execution_count": null,
      "outputs": []
    },
    {
      "cell_type": "code",
      "source": [
        "#first 25 training images\n",
        "\n",
        "plt.figure(figsize = (10,10))\n",
        "\n",
        "for i in range(25):#0-24\n",
        "  plt.subplot(5,5,i+1)\n",
        "  plt.xticks([])\n",
        "  plt.yticks([])\n",
        "  plt.grid(False)\n",
        "  plt.imshow(train_images[i], cmap=plt.cm.binary)\n",
        "  plt.xlabel(class_names[train_labels[i]])\n",
        "plt.show()"
      ],
      "metadata": {
        "colab": {
          "base_uri": "https://localhost:8080/",
          "height": 826
        },
        "id": "N053-Yugy8Ez",
        "outputId": "6f1fac2e-9042-4a22-e5ca-ae99c3bc0865"
      },
      "execution_count": null,
      "outputs": [
        {
          "output_type": "display_data",
          "data": {
            "text/plain": [
              "<Figure size 1000x1000 with 25 Axes>"
            ],
            "image/png": "[encoded data removed]"
          },
          "metadata": {}
        }
      ]
    },
    {
      "cell_type": "markdown",
      "source": [
        "**Build the neural network model**\n",
        "\n",
        "Architecture made up of layers: input, hidden and output layer\n",
        "\n",
        "tf.keras.layers.Dense"
      ],
      "metadata": {
        "id": "NlMufvKz0jaY"
      }
    },
    {
      "cell_type": "code",
      "source": [
        "a = np.array([[1,2,3],[4,5,6]])\n",
        "a\n",
        "#flatten: converting an aray into single dimension"
      ],
      "metadata": {
        "colab": {
          "base_uri": "https://localhost:8080/"
        },
        "id": "bjJXFuHtPwOn",
        "outputId": "d0c1955e-7a68-4126-bac2-6b6df414b3c7"
      },
      "execution_count": null,
      "outputs": [
        {
          "output_type": "execute_result",
          "data": {
            "text/plain": [
              "array([[1, 2, 3],\n",
              "       [4, 5, 6]])"
            ]
          },
          "metadata": {},
          "execution_count": 11
        }
      ]
    },
    {
      "cell_type": "code",
      "source": [
        "a.flatten()"
      ],
      "metadata": {
        "colab": {
          "base_uri": "https://localhost:8080/"
        },
        "id": "I1PHkuAXQGYr",
        "outputId": "1471f0a4-ed2c-46e3-eedc-6e88eb88d2ee"
      },
      "execution_count": null,
      "outputs": [
        {
          "output_type": "execute_result",
          "data": {
            "text/plain": [
              "array([1, 2, 3, 4, 5, 6])"
            ]
          },
          "metadata": {},
          "execution_count": 12
        }
      ]
    },
    {
      "cell_type": "code",
      "source": [
        "\n",
        "model = tf.keras.Sequential([\n",
        "    tf.keras.layers.Flatten(input_shape=(28,28)),#input layer\n",
        "    tf.keras.layers.Dense(128, activation='relu'),#hidden layer with 128 nodes\n",
        "    tf.keras.layers.Dense(10),#output layer with 10 nodes #predictions generated by output layer in form of array of number\n",
        "    tf.keras.layers.Softmax()\n",
        "    ])"
      ],
      "metadata": {
        "id": "wiYxFSxWzsyZ"
      },
      "execution_count": null,
      "outputs": []
    },
    {
      "cell_type": "code",
      "source": [
        "model.summary()"
      ],
      "metadata": {
        "id": "quV-dIXyRtLP"
      },
      "execution_count": null,
      "outputs": []
    },
    {
      "cell_type": "markdown",
      "source": [
        "images are in two dimension:height and width; 28 x 28 px\n",
        "\n",
        "transform the images into one dimension: single row array: 28 x 28 = 784 px"
      ],
      "metadata": {
        "id": "nnuc3_0v2YVD"
      }
    },
    {
      "cell_type": "markdown",
      "source": [
        "For crossentropy loss computations the predictions generated by the output layer needs to be in the form of array of probabilities.\n",
        "\n",
        "crossentropy loss = actual p -\n",
        "\n",
        "from_logits = true, makes sure that the conversion happens at the backend"
      ],
      "metadata": {
        "id": "L662Hl90Uym-"
      }
    },
    {
      "cell_type": "markdown",
      "source": [
        "Reason behind softmax:\n",
        "\n",
        "1. to convert the prediction of array of numbers into array of probablities\n",
        "\n",
        "2. crossentropy; loss metric ; actual prob. dist and predicted prob."
      ],
      "metadata": {
        "id": "oN0h_Ikp3uCG"
      }
    },
    {
      "cell_type": "markdown",
      "source": [
        "Compile the Model: Tuning the model\n",
        "\n",
        "1. loss function: how accurate the model is during the training. Minimize the loss\n",
        "\n",
        "2. Opimization algos: Optimizer; help the neural network in changing weights; direction of change and magnitude of change\n",
        "\n",
        "3. Final metric: used to monitor the train but test data; accuracy; classification problems; no. of labels corectly predicted\n"
      ],
      "metadata": {
        "id": "qdOdrXg74wh5"
      }
    },
    {
      "cell_type": "code",
      "source": [
        "model.compile(optimizer='adam',\n",
        "              loss=tf.keras.losses.SparseCategoricalCrossentropy(from_logits=False),\n",
        "              metrics=['accuracy'])"
      ],
      "metadata": {
        "id": "_Ljvp-oI3AWJ"
      },
      "execution_count": null,
      "outputs": []
    },
    {
      "cell_type": "markdown",
      "source": [
        "Train the model:\n",
        "\n",
        "1. Feed the training data to the model; train_images, train_labels\n",
        "\n",
        "2. The model will learn to associate images and labels\n",
        "\n",
        "3. You will ask the model to make predictions on test data ; test_images\n",
        "\n",
        "4. Verify the predictions by comparing them with pre-exiting test labels"
      ],
      "metadata": {
        "id": "kmXtaEg37WDL"
      }
    },
    {
      "cell_type": "code",
      "source": [
        "#feed the model with data : fit method\n",
        "\n",
        "model.fit(train_images, train_labels, epochs=10)\n",
        "#images are feeded in batches of 32 by default: 60000/32 = 1875"
      ],
      "metadata": {
        "colab": {
          "base_uri": "https://localhost:8080/"
        },
        "id": "2XKghVEt7R3Q",
        "outputId": "ea758194-407e-45fd-b6a7-e69509515bd4"
      },
      "execution_count": null,
      "outputs": [
        {
          "output_type": "stream",
          "name": "stdout",
          "text": [
            "Epoch 1/10\n",
            "1875/1875 [==============================] - 7s 3ms/step - loss: 0.4994 - accuracy: 0.8255\n",
            "Epoch 2/10\n",
            "1875/1875 [==============================] - 5s 3ms/step - loss: 0.3764 - accuracy: 0.8647\n",
            "Epoch 3/10\n",
            "1875/1875 [==============================] - 6s 3ms/step - loss: 0.3386 - accuracy: 0.8762\n",
            "Epoch 4/10\n",
            "1875/1875 [==============================] - 5s 3ms/step - loss: 0.3132 - accuracy: 0.8858\n",
            "Epoch 5/10\n",
            "1875/1875 [==============================] - 5s 3ms/step - loss: 0.2965 - accuracy: 0.8895\n",
            "Epoch 6/10\n",
            "1875/1875 [==============================] - 5s 3ms/step - loss: 0.2829 - accuracy: 0.8956\n",
            "Epoch 7/10\n",
            "1875/1875 [==============================] - 5s 3ms/step - loss: 0.2693 - accuracy: 0.8995\n",
            "Epoch 8/10\n",
            "1875/1875 [==============================] - 6s 3ms/step - loss: 0.2579 - accuracy: 0.9047\n",
            "Epoch 9/10\n",
            "1875/1875 [==============================] - 5s 3ms/step - loss: 0.2489 - accuracy: 0.9077\n",
            "Epoch 10/10\n",
            "1875/1875 [==============================] - 8s 4ms/step - loss: 0.2411 - accuracy: 0.9108\n"
          ]
        },
        {
          "output_type": "execute_result",
          "data": {
            "text/plain": [
              "<keras.callbacks.History at 0x79c03612a380>"
            ]
          },
          "metadata": {},
          "execution_count": 28
        }
      ]
    },
    {
      "cell_type": "code",
      "source": [
        "#evlaute the accuracy on test data\n",
        "\n",
        "test_loss, test_acc =model.evaluate(test_images, test_labels)\n",
        "\n",
        "print(test_acc)"
      ],
      "metadata": {
        "colab": {
          "base_uri": "https://localhost:8080/"
        },
        "id": "ZjeoZ9ut8C5T",
        "outputId": "943f93d9-6816-43dd-a5c9-a0b9a253630c"
      },
      "execution_count": null,
      "outputs": [
        {
          "output_type": "stream",
          "name": "stdout",
          "text": [
            "313/313 [==============================] - 1s 2ms/step - loss: 0.3247 - accuracy: 0.8897\n",
            "0.8896999955177307\n"
          ]
        }
      ]
    },
    {
      "cell_type": "code",
      "source": [
        "print(test_loss)"
      ],
      "metadata": {
        "id": "dnT3ltb-92q2"
      },
      "execution_count": null,
      "outputs": []
    },
    {
      "cell_type": "markdown",
      "source": [
        "if train accuracy >>> test accuracy, Overfitting\n",
        "\n",
        "Low Bias and High Variance"
      ],
      "metadata": {
        "id": "kxtn9jOx9hLx"
      }
    },
    {
      "cell_type": "code",
      "source": [
        "#make predictions\n",
        "\n",
        "predictions = model.predict(test_images)"
      ],
      "metadata": {
        "id": "jVagDze29Vlu",
        "colab": {
          "base_uri": "https://localhost:8080/"
        },
        "outputId": "88dc9333-0f41-44b2-af6c-635c968482e4"
      },
      "execution_count": null,
      "outputs": [
        {
          "output_type": "stream",
          "name": "stdout",
          "text": [
            "313/313 [==============================] - 1s 2ms/step\n"
          ]
        }
      ]
    },
    {
      "cell_type": "code",
      "source": [
        "#print the prediction of the first image of the test\n",
        "predictions[0]"
      ],
      "metadata": {
        "colab": {
          "base_uri": "https://localhost:8080/"
        },
        "id": "_Xet1ayW-RMB",
        "outputId": "62949cd9-d5d1-434f-d490-b623928091e1"
      },
      "execution_count": null,
      "outputs": [
        {
          "output_type": "execute_result",
          "data": {
            "text/plain": [
              "array([ -6.2474575 , -17.774464  , -13.709358  , -13.639822  ,\n",
              "       -13.77252   ,  -2.3699205 ,  -9.152112  ,   0.45613748,\n",
              "       -12.146989  ,   5.206707  ], dtype=float32)"
            ]
          },
          "metadata": {},
          "execution_count": 19
        }
      ]
    },
    {
      "cell_type": "code",
      "source": [
        "#print the prediction of the first image of the test\n",
        "predictions[0]"
      ],
      "metadata": {
        "colab": {
          "base_uri": "https://localhost:8080/"
        },
        "id": "ox2jfjTONHTu",
        "outputId": "f4263dc5-0f7b-4eeb-ebbc-f156c2e43252"
      },
      "execution_count": null,
      "outputs": [
        {
          "output_type": "execute_result",
          "data": {
            "text/plain": [
              "array([5.6957279e-09, 6.8718685e-12, 1.6992500e-08, 4.4981367e-12,\n",
              "       2.8299075e-07, 2.1559918e-04, 2.3225729e-08, 5.7153009e-02,\n",
              "       1.6990077e-07, 9.4263089e-01], dtype=float32)"
            ]
          },
          "metadata": {},
          "execution_count": 31
        }
      ]
    },
    {
      "cell_type": "code",
      "source": [
        "#extract the index postion of the label\n",
        "\n",
        "np.argmax(predictions[0])"
      ],
      "metadata": {
        "colab": {
          "base_uri": "https://localhost:8080/"
        },
        "id": "SpNmkfAu-cgH",
        "outputId": "28a430e8-772e-44cb-c7a7-9e843ccafa1c"
      },
      "execution_count": null,
      "outputs": [
        {
          "output_type": "execute_result",
          "data": {
            "text/plain": [
              "9"
            ]
          },
          "metadata": {},
          "execution_count": 32
        }
      ]
    },
    {
      "cell_type": "code",
      "source": [
        "test_labels[0]"
      ],
      "metadata": {
        "colab": {
          "base_uri": "https://localhost:8080/"
        },
        "id": "AKG9wKB1_Gqx",
        "outputId": "edebe312-aeb4-4822-8a08-20feb3ef4442"
      },
      "execution_count": null,
      "outputs": [
        {
          "output_type": "execute_result",
          "data": {
            "text/plain": [
              "9"
            ]
          },
          "metadata": {},
          "execution_count": 21
        }
      ]
    },
    {
      "cell_type": "code",
      "source": [
        "#generate predictions as array of probs\n",
        "\n",
        "probability_model = tf.keras.Sequential([model, tf.keras.layers.Softmax()])"
      ],
      "metadata": {
        "id": "jdcr81wv_K-Y"
      },
      "execution_count": null,
      "outputs": []
    },
    {
      "cell_type": "code",
      "source": [
        "newpredictions = probability_model.predict(test_images)"
      ],
      "metadata": {
        "id": "2jGf6FSW_x9Q"
      },
      "execution_count": null,
      "outputs": []
    },
    {
      "cell_type": "code",
      "source": [
        "newpredictions[0]"
      ],
      "metadata": {
        "id": "ewOm3Vss_72g"
      },
      "execution_count": null,
      "outputs": []
    },
    {
      "cell_type": "code",
      "source": [
        "np.argmax(newpredictions[0])"
      ],
      "metadata": {
        "id": "bM_J-Ipk_87U"
      },
      "execution_count": null,
      "outputs": []
    },
    {
      "cell_type": "code",
      "source": [
        "test_labels[0]"
      ],
      "metadata": {
        "id": "v9pQPOMNATaM"
      },
      "execution_count": null,
      "outputs": []
    },
    {
      "cell_type": "code",
      "source": [],
      "metadata": {
        "id": "gWRG7BoTAU-F"
      },
      "execution_count": null,
      "outputs": []
    }
  ]
}